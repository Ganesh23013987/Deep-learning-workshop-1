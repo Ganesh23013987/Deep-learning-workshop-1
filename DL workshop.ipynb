{
 "cells": [
  {
   "cell_type": "code",
   "execution_count": 2,
   "id": "af98078e-5c9d-4f06-b330-2f5487d41f83",
   "metadata": {
    "scrolled": true
   },
   "outputs": [
    {
     "name": "stdout",
     "output_type": "stream",
     "text": [
      "Requirement already satisfied: pandas in c:\\users\\bss\\anaconda3\\anaconda\\envs\\pytorch\\lib\\site-packages (2.3.2)\n",
      "Requirement already satisfied: numpy>=1.23.2 in c:\\users\\bss\\anaconda3\\anaconda\\envs\\pytorch\\lib\\site-packages (from pandas) (2.3.3)\n",
      "Requirement already satisfied: python-dateutil>=2.8.2 in c:\\users\\bss\\appdata\\roaming\\python\\python311\\site-packages (from pandas) (2.8.2)\n",
      "Requirement already satisfied: pytz>=2020.1 in c:\\users\\bss\\anaconda3\\anaconda\\envs\\pytorch\\lib\\site-packages (from pandas) (2025.2)\n",
      "Requirement already satisfied: tzdata>=2022.7 in c:\\users\\bss\\anaconda3\\anaconda\\envs\\pytorch\\lib\\site-packages (from pandas) (2025.2)\n",
      "Requirement already satisfied: six>=1.5 in c:\\users\\bss\\appdata\\roaming\\python\\python311\\site-packages (from python-dateutil>=2.8.2->pandas) (1.16.0)\n",
      "Note: you may need to restart the kernel to use updated packages.\n"
     ]
    }
   ],
   "source": [
    "pip install pandas"
   ]
  },
  {
   "cell_type": "code",
   "execution_count": 2,
   "id": "23ccc871-08b0-45f4-b051-0f1ce69d6e61",
   "metadata": {},
   "outputs": [
    {
     "name": "stdout",
     "output_type": "stream",
     "text": [
      "Requirement already satisfied: torch in c:\\users\\bss\\anaconda3\\anaconda\\envs\\pytorch\\lib\\site-packages (2.5.1)\n",
      "Requirement already satisfied: torchvision in c:\\users\\bss\\anaconda3\\anaconda\\envs\\pytorch\\lib\\site-packages (0.20.1)\n",
      "Requirement already satisfied: torchaudio in c:\\users\\bss\\anaconda3\\anaconda\\envs\\pytorch\\lib\\site-packages (2.7.1)\n",
      "Requirement already satisfied: filelock in c:\\users\\bss\\anaconda3\\anaconda\\envs\\pytorch\\lib\\site-packages (from torch) (3.17.0)\n",
      "Requirement already satisfied: typing-extensions>=4.8.0 in c:\\users\\bss\\anaconda3\\anaconda\\envs\\pytorch\\lib\\site-packages (from torch) (4.12.2)\n",
      "Collecting sympy==1.13.1 (from torch)\n",
      "  Downloading sympy-1.13.1-py3-none-any.whl.metadata (12 kB)\n",
      "Requirement already satisfied: networkx in c:\\users\\bss\\anaconda3\\anaconda\\envs\\pytorch\\lib\\site-packages (from torch) (3.5)\n",
      "Requirement already satisfied: jinja2 in c:\\users\\bss\\anaconda3\\anaconda\\envs\\pytorch\\lib\\site-packages (from torch) (3.1.6)\n",
      "Requirement already satisfied: fsspec in c:\\users\\bss\\anaconda3\\anaconda\\envs\\pytorch\\lib\\site-packages (from torch) (2025.7.0)\n",
      "Requirement already satisfied: mpmath<1.4,>=1.1.0 in c:\\users\\bss\\anaconda3\\anaconda\\envs\\pytorch\\lib\\site-packages (from sympy==1.13.1->torch) (1.3.0)\n",
      "Requirement already satisfied: numpy in c:\\users\\bss\\anaconda3\\anaconda\\envs\\pytorch\\lib\\site-packages (from torchvision) (2.3.3)\n",
      "Requirement already satisfied: pillow!=8.3.*,>=5.3.0 in c:\\users\\bss\\anaconda3\\anaconda\\envs\\pytorch\\lib\\site-packages (from torchvision) (11.3.0)\n",
      "Collecting torch\n",
      "  Using cached torch-2.7.1-cp311-cp311-win_amd64.whl.metadata (28 kB)\n",
      "Requirement already satisfied: sympy>=1.13.3 in c:\\users\\bss\\anaconda3\\anaconda\\envs\\pytorch\\lib\\site-packages (from torch) (1.14.0)\n",
      "Requirement already satisfied: MarkupSafe>=2.0 in c:\\users\\bss\\anaconda3\\anaconda\\envs\\pytorch\\lib\\site-packages (from jinja2->torch) (3.0.2)\n",
      "Using cached torch-2.7.1-cp311-cp311-win_amd64.whl (216.1 MB)\n",
      "Installing collected packages: torch\n",
      "  Attempting uninstall: torch\n",
      "    Found existing installation: torch 2.5.1\n",
      "    Uninstalling torch-2.5.1:\n",
      "      Successfully uninstalled torch-2.5.1\n",
      "Successfully installed torch-2.7.1\n",
      "Note: you may need to restart the kernel to use updated packages.\n"
     ]
    }
   ],
   "source": [
    "pip install torch torchvision torchaudio\n"
   ]
  },
  {
   "cell_type": "code",
   "execution_count": 3,
   "id": "daed30ae-b396-4d64-a35a-6dbf6ec843fc",
   "metadata": {},
   "outputs": [],
   "source": [
    "import pandas as pd\n",
    "import numpy as np\n",
    "import torch\n",
    "import torch.nn as nn"
   ]
  },
  {
   "cell_type": "code",
   "execution_count": 4,
   "id": "1e7c01d1-4b05-4694-a988-d0c470218f24",
   "metadata": {},
   "outputs": [],
   "source": [
    "data=pd.read_csv(\"income.csv\")"
   ]
  },
  {
   "cell_type": "code",
   "execution_count": 6,
   "id": "d0fb2183-8419-4260-ba47-a7e80607b374",
   "metadata": {},
   "outputs": [
    {
     "data": {
      "text/plain": [
       "<bound method DataFrame.info of        age     sex     education  education-num marital-status    workclass  \\\n",
       "0       27    Male       HS-grad              9  Never-married      Private   \n",
       "1       47    Male       Masters             14        Married    Local-gov   \n",
       "2       59    Male       HS-grad              9       Divorced     Self-emp   \n",
       "3       38  Female   Prof-school             15  Never-married  Federal-gov   \n",
       "4       64  Female          11th              7        Widowed      Private   \n",
       "...    ...     ...           ...            ...            ...          ...   \n",
       "29995   45    Male       Masters             14        Married    State-gov   \n",
       "29996   33    Male       HS-grad              9        Married      Private   \n",
       "29997   47    Male   Prof-school             15        Married      Private   \n",
       "29998   32  Female  Some-college             10  Never-married      Private   \n",
       "29999   33    Male    Assoc-acdm             12        Married     Self-emp   \n",
       "\n",
       "              occupation  hours-per-week income  label  \n",
       "0           Craft-repair              40  <=50K      0  \n",
       "1        Exec-managerial              50   >50K      1  \n",
       "2         Prof-specialty              20  <=50K      0  \n",
       "3         Prof-specialty              57   >50K      1  \n",
       "4        Farming-fishing              40  <=50K      0  \n",
       "...                  ...             ...    ...    ...  \n",
       "29995     Prof-specialty              60   >50K      1  \n",
       "29996  Machine-op-inspct              40   >50K      1  \n",
       "29997     Prof-specialty              55   >50K      1  \n",
       "29998       Adm-clerical              40  <=50K      0  \n",
       "29999    Exec-managerial              60   >50K      1  \n",
       "\n",
       "[30000 rows x 10 columns]>"
      ]
     },
     "execution_count": 6,
     "metadata": {},
     "output_type": "execute_result"
    }
   ],
   "source": [
    "data.info"
   ]
  },
  {
   "cell_type": "code",
   "execution_count": 7,
   "id": "530be41f-90e2-4da5-b415-0cf98bf32ca5",
   "metadata": {},
   "outputs": [],
   "source": [
    "cat=['sex','education','marital-status','workclass','occupation']"
   ]
  },
  {
   "cell_type": "code",
   "execution_count": 8,
   "id": "d96fb8d4-ab42-4cfe-90d4-3ec23e16e7cc",
   "metadata": {},
   "outputs": [],
   "source": [
    "target=['label']"
   ]
  },
  {
   "cell_type": "code",
   "execution_count": 9,
   "id": "a5ea18f4-1bd9-493b-a9f5-35aa6e39f7ab",
   "metadata": {},
   "outputs": [],
   "source": [
    "con=['age','hours-per-week']"
   ]
  },
  {
   "cell_type": "code",
   "execution_count": 10,
   "id": "582477ef-42a4-4880-9a83-9be25fb786e3",
   "metadata": {},
   "outputs": [
    {
     "name": "stdout",
     "output_type": "stream",
     "text": [
      "cat_cols  has 5 columns\n",
      "cont_cols has 2 columns\n",
      "y_col     has 1 column\n"
     ]
    }
   ],
   "source": [
    "print(f'cat_cols  has {len(cat)} columns')\n",
    "print(f'cont_cols has {len(con)} columns')\n",
    "print(f'y_col     has {len(target)} column')"
   ]
  },
  {
   "cell_type": "code",
   "execution_count": 11,
   "id": "405073a7-d078-4e13-af34-10bda408b621",
   "metadata": {},
   "outputs": [],
   "source": [
    "for col in cat:\n",
    "    data[col] = data[col].astype('category')"
   ]
  },
  {
   "cell_type": "code",
   "execution_count": 12,
   "id": "03e14a49-aefc-405c-9c12-2baa90eac1af",
   "metadata": {},
   "outputs": [],
   "source": [
    "cat_szs = [len(data[col].cat.categories) for col in cat] \n",
    "emb_szs = [(size, min(50, (size+1)//2)) for size in cat_szs] "
   ]
  },
  {
   "cell_type": "code",
   "execution_count": 13,
   "id": "154dcd67-30f9-4292-bb40-14e37998e907",
   "metadata": {},
   "outputs": [
    {
     "data": {
      "text/plain": [
       "[(2, 1), (14, 7), (6, 3), (5, 3), (12, 6)]"
      ]
     },
     "execution_count": 13,
     "metadata": {},
     "output_type": "execute_result"
    }
   ],
   "source": [
    "emb_szs"
   ]
  },
  {
   "cell_type": "code",
   "execution_count": 14,
   "id": "82566dcd-6cd4-4754-ad45-79d781661959",
   "metadata": {},
   "outputs": [
    {
     "data": {
      "text/plain": [
       "array([[ 1, 10,  3,  2,  1],\n",
       "       [ 1, 11,  1,  1,  2],\n",
       "       [ 1, 10,  0,  3,  7],\n",
       "       [ 0, 12,  3,  0,  7],\n",
       "       [ 0,  1,  5,  2,  3]], dtype=int8)"
      ]
     },
     "execution_count": 14,
     "metadata": {},
     "output_type": "execute_result"
    }
   ],
   "source": [
    "cats = np.stack([data[col].cat.codes.values for col in cat], 1)\n",
    "cats[:5]"
   ]
  },
  {
   "cell_type": "code",
   "execution_count": 15,
   "id": "e331455f-cd6f-4444-862a-76133019120a",
   "metadata": {},
   "outputs": [],
   "source": [
    "cats_tensor = torch.tensor(cats, dtype=torch.int64)"
   ]
  },
  {
   "cell_type": "code",
   "execution_count": 16,
   "id": "b9189ec7-ad78-4679-923d-cf7a0c8cb214",
   "metadata": {},
   "outputs": [
    {
     "data": {
      "text/plain": [
       "array([[27, 40],\n",
       "       [47, 50],\n",
       "       [59, 20],\n",
       "       [38, 57],\n",
       "       [64, 40]])"
      ]
     },
     "execution_count": 16,
     "metadata": {},
     "output_type": "execute_result"
    }
   ],
   "source": [
    "conts = np.stack([data[col].values for col in con], 1)\n",
    "conts[:5]"
   ]
  },
  {
   "cell_type": "code",
   "execution_count": 17,
   "id": "a4bee493-6968-4fd9-b934-75db6f9f0f36",
   "metadata": {},
   "outputs": [],
   "source": [
    "conts_tensor = torch.tensor(conts, dtype=torch.float32)\n"
   ]
  },
  {
   "cell_type": "code",
   "execution_count": 18,
   "id": "a831cd31-88ef-498c-b9fb-6d3056ec64a8",
   "metadata": {},
   "outputs": [],
   "source": [
    "y = torch.tensor(data['label'].values, dtype=torch.long)"
   ]
  },
  {
   "cell_type": "code",
   "execution_count": 19,
   "id": "9055af95-b76d-434f-89c9-22ea33bdabe5",
   "metadata": {},
   "outputs": [],
   "source": [
    "b = 30000 \n",
    "t = 5000   \n",
    "\n",
    "\n",
    "cats_train, cats_test = cats_tensor[:b], cats_tensor[b:]\n",
    "conts_train, conts_test = conts_tensor[:b], conts_tensor[b:]\n",
    "y_train, y_test = y[:b], y[b:]"
   ]
  },
  {
   "cell_type": "code",
   "execution_count": 20,
   "id": "e2bc5b95-9334-4dfe-b2f8-ec9c182803b0",
   "metadata": {},
   "outputs": [],
   "source": [
    "class TabularModel(nn.Module):\n",
    "\n",
    "    def __init__(self, emb_szs, n_cont, out_sz, layers, p=0.5):\n",
    "        super().__init__()\n",
    "        \n",
    "        # Embedding layer for categorical data\n",
    "        self.embeds = nn.ModuleList([nn.Embedding(ni, nf) for ni, nf in emb_szs])\n",
    "        self.emb_drop = nn.Dropout(p)\n",
    "        self.bn_cont = nn.BatchNorm1d(n_cont)\n",
    "        \n",
    "        # Define the feedforward layers\n",
    "        layerlist = []\n",
    "        n_emb = sum((nf for ni, nf in emb_szs))\n",
    "        n_in = n_emb + n_cont\n",
    "        for i in layers:\n",
    "            layerlist.append(nn.Linear(n_in, i)) \n",
    "            layerlist.append(nn.ReLU(inplace=True))\n",
    "            layerlist.append(nn.BatchNorm1d(i))\n",
    "            layerlist.append(nn.Dropout(p))\n",
    "            n_in = i\n",
    "        layerlist.append(nn.Linear(layers[-1], out_sz))\n",
    "        self.layers = nn.Sequential(*layerlist)\n",
    "    \n",
    "    def forward(self, x_cat, x_cont):\n",
    "        embeddings = [e(x_cat[:, i]) for i, e in enumerate(self.embeds)]\n",
    "        x = torch.cat(embeddings, 1)\n",
    "        x = self.emb_drop(x)\n",
    "        \n",
    "        # Batch normalization for continuous variables\n",
    "        x_cont = self.bn_cont(x_cont)\n",
    "        x = torch.cat([x, x_cont], 1)\n",
    "        \n",
    "        # Pass through feedforward layers\n",
    "        x = self.layers(x)\n",
    "        return x\n"
   ]
  },
  {
   "cell_type": "code",
   "execution_count": 21,
   "id": "66a4170d-8a2e-4289-a4a5-ddafa6084133",
   "metadata": {},
   "outputs": [
    {
     "name": "stdout",
     "output_type": "stream",
     "text": [
      "TabularModel(\n",
      "  (embeds): ModuleList(\n",
      "    (0): Embedding(2, 1)\n",
      "    (1): Embedding(14, 7)\n",
      "    (2): Embedding(6, 3)\n",
      "    (3): Embedding(5, 3)\n",
      "    (4): Embedding(12, 6)\n",
      "  )\n",
      "  (emb_drop): Dropout(p=0.4, inplace=False)\n",
      "  (bn_cont): BatchNorm1d(2, eps=1e-05, momentum=0.1, affine=True, track_running_stats=True)\n",
      "  (layers): Sequential(\n",
      "    (0): Linear(in_features=22, out_features=50, bias=True)\n",
      "    (1): ReLU(inplace=True)\n",
      "    (2): BatchNorm1d(50, eps=1e-05, momentum=0.1, affine=True, track_running_stats=True)\n",
      "    (3): Dropout(p=0.4, inplace=False)\n",
      "    (4): Linear(in_features=50, out_features=2, bias=True)\n",
      "  )\n",
      ")\n"
     ]
    }
   ],
   "source": [
    "model = TabularModel(emb_szs, n_cont=2, out_sz=2, layers=[50], p=0.4)\n",
    "print(model)\n"
   ]
  },
  {
   "cell_type": "code",
   "execution_count": 42,
   "id": "efe2285f-00fd-4eec-897c-5e5929642a69",
   "metadata": {},
   "outputs": [],
   "source": [
    "criterion = nn.CrossEntropyLoss()\n",
    "optimizer = torch.optim.Adam(model.parameters(), lr=0.001)"
   ]
  },
  {
   "cell_type": "code",
   "execution_count": 44,
   "id": "7ef58cbc-7b75-4c3c-adb3-72bb2479da60",
   "metadata": {},
   "outputs": [
    {
     "name": "stdout",
     "output_type": "stream",
     "text": [
      "epoch:   1  loss: 0.21951059\n",
      "epoch:  26  loss: 0.21893963\n",
      "epoch:  51  loss: 0.21846808\n",
      "epoch:  76  loss: 0.21799029\n",
      "epoch: 101  loss: 0.21753335\n",
      "epoch: 126  loss: 0.21719161\n",
      "epoch: 151  loss: 0.21673624\n",
      "epoch: 176  loss: 0.21645248\n",
      "epoch: 201  loss: 0.21612266\n",
      "epoch: 226  loss: 0.21586581\n",
      "epoch: 251  loss: 0.21560706\n",
      "epoch: 276  loss: 0.21538788\n",
      "epoch: 300  loss: 0.21515423\n",
      "\n",
      "Duration: 14 seconds\n"
     ]
    }
   ],
   "source": [
    "import time\n",
    "start_time = time.time()\n",
    "\n",
    "epochs = 300\n",
    "losses = []\n",
    "\n",
    "for i in range(epochs):\n",
    "    i+=1\n",
    "    y_pred = model(cats_train, conts_train)\n",
    "    loss = criterion(y_pred, y_train)\n",
    "    losses.append(loss)\n",
    "    \n",
    "    # a neat trick to save screen space:\n",
    "    if i%25 == 1:\n",
    "        print(f'epoch: {i:3}  loss: {loss.item():10.8f}')\n",
    "\n",
    "    optimizer.zero_grad()\n",
    "    loss.backward()\n",
    "    optimizer.step()\n",
    "\n",
    "print(f'epoch: {i:3}  loss: {loss.item():10.8f}') # print the last line\n",
    "print(f'\\nDuration: {time.time() - start_time:.0f} seconds')"
   ]
  },
  {
   "cell_type": "code",
   "execution_count": 45,
   "id": "cebc9ff4-2539-4895-ac46-d8d1e93d3034",
   "metadata": {},
   "outputs": [
    {
     "data": {
      "image/png": "[encoded data removed]",
      "text/plain": [
       "<Figure size 640x480 with 1 Axes>"
      ]
     },
     "metadata": {},
     "output_type": "display_data"
    }
   ],
   "source": [
    "import matplotlib.pyplot as plt\n",
    "\n",
    "# Convert the list of loss tensors to floats\n",
    "losses_np = [loss.detach().cpu().numpy() for loss in losses]\n",
    "\n",
    "plt.plot(losses_np)\n",
    "plt.xlabel('Epoch')\n",
    "plt.ylabel('Loss')\n",
    "plt.show()\n"
   ]
  },
  {
   "cell_type": "code",
   "execution_count": 46,
   "id": "9bd83fef-2af0-4c48-96c6-c865ca3db003",
   "metadata": {},
   "outputs": [],
   "source": [
    "cats_test = cats_tensor[25000:]\n",
    "conts_test = conts_tensor[25000:]\n",
    "y_test = y[25000:]"
   ]
  },
  {
   "cell_type": "code",
   "execution_count": 47,
   "id": "a2fc8c2a-15fd-4894-8c4a-3cc9d9c5b9be",
   "metadata": {},
   "outputs": [
    {
     "name": "stdout",
     "output_type": "stream",
     "text": [
      "Test CE Loss: 0.21943486\n"
     ]
    }
   ],
   "source": [
    "model.eval()\n",
    "with torch.no_grad():\n",
    "    y_pred_test = model(cats_test, conts_test)\n",
    "    loss = criterion(y_pred_test, y_test)\n",
    "\n",
    "print(f'Test CE Loss: {loss.item():.8f}')\n"
   ]
  },
  {
   "cell_type": "code",
   "execution_count": 48,
   "id": "c1aeba99-b1cb-4841-8b44-53decc354af5",
   "metadata": {},
   "outputs": [
    {
     "name": "stdout",
     "output_type": "stream",
     "text": [
      "Accuracy: 89.72%\n"
     ]
    }
   ],
   "source": [
    "y_pred_labels = torch.argmax(y_pred_test, dim=1)\n",
    "correct = (y_pred_labels == y_test).sum().item()\n",
    "accuracy = correct / y_test.size(0) * 100\n",
    "print(f'Accuracy: {accuracy:.2f}%')"
   ]
  },
  {
   "cell_type": "code",
   "execution_count": null,
   "id": "8fd5d0d4-d8c9-44c8-9e10-57e2e0c6227b",
   "metadata": {},
   "outputs": [],
   "source": []
  },
  {
   "cell_type": "code",
   "execution_count": null,
   "id": "b707364b-db8d-49ba-963d-5602c1c50d0c",
   "metadata": {},
   "outputs": [],
   "source": []
  },
  {
   "cell_type": "code",
   "execution_count": null,
   "id": "a41962d9-806d-4695-b273-a8f10f4b8034",
   "metadata": {},
   "outputs": [],
   "source": []
  },
  {
   "cell_type": "code",
   "execution_count": null,
   "id": "9d38cdf5-17c9-4fad-b3d3-4e1910d48580",
   "metadata": {},
   "outputs": [],
   "source": []
  },
  {
   "cell_type": "code",
   "execution_count": null,
   "id": "ff36be94-078d-4ca6-a511-67ff8cf8a7a9",
   "metadata": {},
   "outputs": [],
   "source": []
  },
  {
   "cell_type": "code",
   "execution_count": null,
   "id": "28d19267-8723-4c13-91d1-e89a0f9ea7b4",
   "metadata": {},
   "outputs": [],
   "source": []
  },
  {
   "cell_type": "code",
   "execution_count": null,
   "id": "f106ebb8-7059-4c9e-9bfa-3b766146a31d",
   "metadata": {},
   "outputs": [],
   "source": []
  },
  {
   "cell_type": "code",
   "execution_count": null,
   "id": "bcb3fb71-e7a5-418d-8789-c078cbd10805",
   "metadata": {},
   "outputs": [],
   "source": []
  },
  {
   "cell_type": "code",
   "execution_count": null,
   "id": "4af8923a-feb8-43d2-9314-d5c8d554e724",
   "metadata": {},
   "outputs": [],
   "source": []
  },
  {
   "cell_type": "code",
   "execution_count": null,
   "id": "be2c07b0-ad0e-4d43-9d42-840743705f36",
   "metadata": {},
   "outputs": [],
   "source": []
  },
  {
   "cell_type": "code",
   "execution_count": null,
   "id": "ac8857cd-58e8-46e2-a432-ace1308a4870",
   "metadata": {},
   "outputs": [],
   "source": []
  },
  {
   "cell_type": "code",
   "execution_count": null,
   "id": "e2e9ff66-3d2c-4d4f-b952-4a06d5eb9dc9",
   "metadata": {},
   "outputs": [],
   "source": []
  }
 ],
 "metadata": {
  "kernelspec": {
   "display_name": "Python 3 (ipykernel)",
   "language": "python",
   "name": "python3"
  },
  "language_info": {
   "codemirror_mode": {
    "name": "ipython",
    "version": 3
   },
   "file_extension": ".py",
   "mimetype": "text/x-python",
   "name": "python",
   "nbconvert_exporter": "python",
   "pygments_lexer": "ipython3",
   "version": "3.11.13"
  }
 },
 "nbformat": 4,
 "nbformat_minor": 5
}
